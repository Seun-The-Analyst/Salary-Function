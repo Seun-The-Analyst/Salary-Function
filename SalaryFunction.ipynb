{
 "cells": [
  {
   "cell_type": "code",
   "execution_count": 5,
   "id": "15abe547",
   "metadata": {},
   "outputs": [
    {
     "name": "stderr",
     "output_type": "stream",
     "text": [
      "C:\\Users\\oluwaseun.akande\\AppData\\Local\\Temp\\ipykernel_3200\\3418594559.py:6: DtypeWarning: Columns (2,3,4,5) have mixed types. Specify dtype option on import or set low_memory=False.\n",
      "  df = pd.read_csv(file_path)\n"
     ]
    },
    {
     "name": "stdout",
     "output_type": "stream",
     "text": [
      "[{'EmployeeName': 'GARY JIMENEZ', 'JobTitle': 'CAPTAIN III (POLICE DEPARTMENT)', 'BasePay': 155966.02, 'OvertimePay': 245131.88, 'OtherPay': 137811.38, 'Benefits': 'Not Provided', 'TotalPay': 538909.28, 'TotalPayBenefits': 538909.28, 'Year': 2011}]\n",
      "[{'EmployeeName': 'GARY JIMENEZ', 'JobTitle': 'CAPTAIN III (POLICE DEPARTMENT)', 'BasePay': 155966.02, 'OvertimePay': 245131.88, 'OtherPay': 137811.38, 'Benefits': 'Not Provided', 'TotalPay': 538909.28, 'TotalPayBenefits': 538909.28, 'Year': 2011}]\n",
      "Employee details exported to employee_profile.csv\n"
     ]
    }
   ],
   "source": [
    "import pandas as pd\n",
    "\n",
    "# Read the CSV file into a DataFrame with error handling\n",
    "file_path = \"C:\\\\Users\\\\oluwaseun.akande\\\\OneDrive - Sahara Group\\\\Documents\\\\Nexford University\\\\Intro R & Python BAN 6420\\\\Assignments\\\\Salary data Total.csv\"\n",
    "try:\n",
    "    df = pd.read_csv(file_path)\n",
    "except FileNotFoundError:\n",
    "    print(f\"Error: File not found at {file_path}\")\n",
    "    df = None\n",
    "except Exception as e:\n",
    "    print(f\"An error occurred: {e}\")\n",
    "    df = None\n",
    "\n",
    "# Convert DataFrame to a list of dictionaries if loaded successfully\n",
    "if df is not None:\n",
    "    salary_data = df.to_dict(orient='records')\n",
    "else:\n",
    "    salary_data = []\n",
    "\n",
    "# Function to retrieve employee details by name from the dictionary\n",
    "def get_employee_details(data, employee_name=\"GARY JIMENEZ\"):\n",
    "    \"\"\"\n",
    "    Retrieve employee details by name from a list of dictionaries.\n",
    "    \"\"\"\n",
    "    try:\n",
    "        results = [emp for emp in data if employee_name.lower() in str(emp.get('EmployeeName', '')).lower()]\n",
    "        if results:\n",
    "            return results\n",
    "        else:\n",
    "            return f\"No details found for employee: {employee_name}\"\n",
    "    except Exception as e:\n",
    "        return f\"An error occurred while searching: {e}\"\n",
    "\n",
    "# Example usage\n",
    "if salary_data:\n",
    "    result = get_employee_details(salary_data, \"GARY JIMENEZ\")\n",
    "    print(result)\n",
    "else:\n",
    "    print(\"Salary data is not available.\")\n",
    "\n",
    "# Example usage\n",
    "if salary_data:\n",
    "    result = get_employee_details(salary_data, \"GARY JIMENEZ\")\n",
    "    print(result)\n",
    "    # Export to CSV if result is a list of dictionaries (i.e., details found)\n",
    "    if isinstance(result, list) and result:\n",
    "        import pandas as pd\n",
    "        pd.DataFrame(result).to_csv(\"employee_profile.csv\", index=False)\n",
    "        print(\"Employee details exported to employee_profile.csv\")\n",
    "else:\n",
    "    print(\"Salary data is not available.\")"
   ]
  }
 ],
 "metadata": {
  "kernelspec": {
   "display_name": "Python 3",
   "language": "python",
   "name": "python3"
  },
  "language_info": {
   "codemirror_mode": {
    "name": "ipython",
    "version": 3
   },
   "file_extension": ".py",
   "mimetype": "text/x-python",
   "name": "python",
   "nbconvert_exporter": "python",
   "pygments_lexer": "ipython3",
   "version": "3.13.3"
  }
 },
 "nbformat": 4,
 "nbformat_minor": 5
}
